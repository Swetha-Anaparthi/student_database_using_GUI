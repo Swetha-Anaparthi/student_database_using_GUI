{
 "cells": [
  {
   "cell_type": "code",
   "execution_count": 1,
   "metadata": {},
   "outputs": [
    {
     "name": "stdout",
     "output_type": "stream",
     "text": [
      "Requirement already satisfied: mysql-connector-python in c:\\users\\swetha\\anaconda3\\lib\\site-packages (8.0.29)\n",
      "Requirement already satisfied: protobuf>=3.0.0 in c:\\users\\swetha\\anaconda3\\lib\\site-packages (from mysql-connector-python) (4.21.1)\n"
     ]
    }
   ],
   "source": [
    "!pip install mysql-connector-python"
   ]
  },
  {
   "cell_type": "code",
   "execution_count": 17,
   "metadata": {},
   "outputs": [],
   "source": [
    "import mysql.connector"
   ]
  },
  {
   "cell_type": "code",
   "execution_count": 18,
   "metadata": {},
   "outputs": [],
   "source": [
    "import tkinter as tk"
   ]
  },
  {
   "cell_type": "code",
   "execution_count": 19,
   "metadata": {},
   "outputs": [],
   "source": [
    "from tkinter import *\n",
    "from tkinter import ttk"
   ]
  },
  {
   "cell_type": "code",
   "execution_count": 20,
   "metadata": {},
   "outputs": [
    {
     "name": "stdout",
     "output_type": "stream",
     "text": [
      "<mysql.connector.connection_cext.CMySQLConnection object at 0x000001A45F0545E0>\n"
     ]
    }
   ],
   "source": [
    "mydb = mysql.connector.connect(\n",
    "  host=\"localhost\",\n",
    "  user=\"root\",\n",
    "  password=\"\",\n",
    "  #database='student_db'\n",
    "  \n",
    ")\n",
    "\n",
    "print(mydb)\n",
    "mycursor = mydb.cursor(buffered=True)"
   ]
  },
  {
   "cell_type": "code",
   "execution_count": 21,
   "metadata": {},
   "outputs": [],
   "source": [
    "mycursor.execute(\"USE student_db \")"
   ]
  },
  {
   "cell_type": "code",
   "execution_count": 22,
   "metadata": {},
   "outputs": [
    {
     "name": "stdout",
     "output_type": "stream",
     "text": [
      "Admin or teacher :admin\n",
      "1.To view all the student details\n",
      "2. To update the fee_status using reg_no\n",
      "Select the requirement: 1\n"
     ]
    }
   ],
   "source": [
    "enter=input(\"Admin or teacher :\")\n",
    "if enter==\"Admin\" or enter==\"admin\" or enter==\"ADMIN\":\n",
    "    print(\"1.To view all the student details\")\n",
    "    print(\"2. To update the fee_status using reg_no\")\n",
    "    value=input(\"Select the requirement: \")\n",
    "    if value=='1':\n",
    "        root=Tk()\n",
    "        root.title(\"Student_data\")\n",
    "        #root.geometry('600x400')\n",
    "\n",
    "        mycursor.execute(\"SELECT * FROM student_data\")\n",
    "        tree=ttk.Treeview(root,selectmode=\"browse\")\n",
    "\n",
    "        tree[\"show\"]=\"headings\"\n",
    "\n",
    "        s=ttk.Style(root)\n",
    "        s.theme_use('clam')\n",
    "\n",
    "        tree[\"columns\"]=(\"id\",\"name\",\"aadhar_no\",\"parent_name\",\"parent_number\",\"class\",\"section\",\"Fee_status\")\n",
    "\n",
    "        tree.column(\"id\",width=50,minwidth=50,anchor=tk.CENTER)\n",
    "        tree.column(\"name\",width=100,minwidth=50,anchor=tk.CENTER)\n",
    "        tree.column(\"aadhar_no\",width=100,minwidth=100,anchor=tk.CENTER)\n",
    "        tree.column(\"parent_name\",width=100,minwidth=50,anchor=tk.CENTER)\n",
    "        tree.column(\"parent_number\",width=100,minwidth=50,anchor=tk.CENTER)\n",
    "        tree.column(\"class\",width=50,minwidth=50,anchor=tk.CENTER)\n",
    "        tree.column(\"section\",width=75,minwidth=75,anchor=tk.CENTER)\n",
    "        tree.column(\"Fee_status\",width=75,minwidth=75,anchor=tk.CENTER)\n",
    "\n",
    "\n",
    "        tree.heading(\"id\",text=\"ID\",anchor=tk.CENTER)\n",
    "        tree.heading(\"name\",text=\"NAME\",anchor=tk.CENTER)\n",
    "        tree.heading(\"aadhar_no\",text=\"AADHAR_NO\",anchor=tk.CENTER)\n",
    "        tree.heading(\"parent_name\",text=\"PARENT_NAME\",anchor=tk.CENTER)\n",
    "        tree.heading(\"parent_number\",text=\"PARENT_NUMBER\",anchor=tk.CENTER)\n",
    "        tree.heading(\"class\",text=\"CLASS\",anchor=tk.CENTER)\n",
    "        tree.heading(\"section\",text=\"SECTION\",anchor=tk.CENTER)\n",
    "        tree.heading(\"Fee_status\",text=\"FEE_STATUS\",anchor=tk.CENTER)\n",
    "\n",
    "        for row in mycursor:\n",
    "            tree.insert(\"\",\"end\",iid=row[0],values=(row[0],row[1],row[2],row[3],row[4],row[5],row[6],row[7]))\n",
    "\n",
    "\n",
    "        hsb=ttk.Scrollbar(root,orient=\"horizontal\")\n",
    "        hsb.configure(command=tree.xview)\n",
    "        tree.configure(xscrollcommand=hsb.set)\n",
    "        hsb.pack(fill=X,side=BOTTOM)\n",
    "\n",
    "\n",
    "        vsb=ttk.Scrollbar(root,orient=\"vertical\")\n",
    "        vsb.configure(command=tree.yview)\n",
    "        tree.configure(yscrollcommand=vsb.set)\n",
    "        vsb.pack(fill=Y,side=RIGHT)\n",
    "\n",
    "\n",
    "        tree.pack()\n",
    "        root.mainloop()\n",
    "\n",
    "    elif value=='2':\n",
    "        \n",
    "        root1=Tk()\n",
    "        root1.title(\"Fee_details\")\n",
    "\n",
    "        label1=Label(root1,anchor = NW,text=\" enter the registration number \",fg=\"black\",font=(\"Courier\",10))\n",
    "        label1.grid(row=0,column=0,padx=20,pady=20)\n",
    "\n",
    "        e=Entry(root1,width=50,fg=\"black\",bg=\"white\",borderwidth=3)\n",
    "        e.grid(row=0,column=2)\n",
    "        e.insert(0,\"\") \n",
    "\n",
    "        label2=Label(root1,anchor = NW,text=\" Enter the updated fee status \",fg=\"black\",font=(\"Courier\",10))\n",
    "        label2.grid(row=2,column=0,padx=20,pady=20)\n",
    "\n",
    "\n",
    "        e2=Entry(root1,width=50,fg=\"black\",bg=\"white\",borderwidth=3)\n",
    "        e2.grid(row=2,column=2)\n",
    "        e2.insert(0,\"\") \n",
    "\n",
    "\n",
    "        def start1():\n",
    "            reg_no=e.get()\n",
    "            update_val=e2.get()\n",
    "            sql_update=\"\"\"UPDATE student_data SET Fee_status=%s where id=%s\"\"\"\n",
    "            mycursor.execute(sql_update,(update_val,reg_no))\n",
    "            mydb.commit()\n",
    "\n",
    "\n",
    "\n",
    "\n",
    "        Button10=Button(root1,text=\"Enter\",command=start1,width=30)\n",
    "        Button10.grid(row=5,column=2,padx=40,pady=20)\n",
    "\n",
    "\n",
    "        root1.mainloop()\n",
    "        \n",
    "    else:\n",
    "        root2=Tk()\n",
    "        \n",
    "        label10=Label(root2,anchor = NW,text=\"Invalid Entry\",fg=\"black\",font=(\"Courier\",10))\n",
    "        label10.grid(row=0,column=0,padx=20,pady=20)\n",
    "\n",
    "        root2.mainloop()\n",
    "\n",
    "elif enter==\"Teacher\" or enter==\"teacher\" or enter==\"TEACHER\":\n",
    "        root=Tk()\n",
    "        root.title(\"Teacher\")\n",
    "        #root.geometry('600x400')\n",
    "        \n",
    "        label1=Label(root,anchor = NW,text=\"Enter the registration number to\"+\"\\n\"+\"view the marks of the student \",fg=\"black\",font=(\"Courier\",10))\n",
    "        label1.grid(row=0,column=2,padx=20,pady=20)\n",
    "\n",
    "        label=Label(root,anchor = NW,text=\"Enter the registration number \",fg=\"black\",font=(\"Courier\",10))\n",
    "        label.grid(row=1,column=0,padx=20,pady=20)\n",
    "\n",
    "        e=Entry(root,width=50,fg=\"black\",bg=\"white\",borderwidth=3)\n",
    "        e.grid(row=1,column=2)\n",
    "        e.insert(0,\"\") \n",
    "\n",
    "\n",
    "        def start():\n",
    "            reg_id=e.get()\n",
    "            sql=\"\"\"SELECT * FROM student_data where id=%s\"\"\"\n",
    "            mycursor.execute(sql,(reg_id,))\n",
    "            tree=ttk.Treeview(root,selectmode=\"browse\")\n",
    "\n",
    "            tree[\"show\"]=\"headings\"\n",
    "\n",
    "            s=ttk.Style(root)\n",
    "            s.theme_use('clam')\n",
    "\n",
    "            tree[\"columns\"]=(\"id\",\"name\",\"maths\",\"science\",\"social\",\"English\")\n",
    "\n",
    "            tree.column(\"id\",width=50,minwidth=50,anchor=tk.CENTER)\n",
    "            tree.column(\"name\",width=100,minwidth=50,anchor=tk.CENTER)\n",
    "            tree.column(\"maths\",width=100,minwidth=50,anchor=tk.CENTER)\n",
    "            tree.column(\"science\",width=100,minwidth=50,anchor=tk.CENTER)\n",
    "            tree.column(\"social\",width=100,minwidth=100,anchor=tk.CENTER)\n",
    "            tree.column(\"English\",width=100,minwidth=50,anchor=tk.CENTER)\n",
    "\n",
    "            tree.heading(\"id\",text=\"REG_ID\",anchor=tk.CENTER)\n",
    "            tree.heading(\"name\",text=\"NAME\",anchor=tk.CENTER)\n",
    "            tree.heading(\"maths\",text=\"MATHS\",anchor=tk.CENTER)\n",
    "            tree.heading(\"science\",text=\"SCIENCE\",anchor=tk.CENTER)\n",
    "            tree.heading(\"social\",text=\"SOCIAL\",anchor=tk.CENTER)\n",
    "            tree.heading(\"English\",text=\"ENGLISH\",anchor=tk.CENTER)\n",
    "\n",
    "            for row in mycursor:\n",
    "                tree.insert(\"\",\"end\",iid=row[0],values=(row[0],row[1],row[8],row[9],row[10],row[11]))\n",
    "\n",
    "            tree.grid(row=2,column=2)\n",
    "\n",
    "\n",
    "\n",
    "        Button3=Button(root,text=\"Enter\",command=start,width=30)\n",
    "        Button3.grid(row=1,column=4,padx=40,pady=20)\n",
    "\n",
    "        root.mainloop()\n",
    "else:\n",
    "    print(\"Invalid Entry\")"
   ]
  },
  {
   "cell_type": "code",
   "execution_count": null,
   "metadata": {},
   "outputs": [],
   "source": []
  }
 ],
 "metadata": {
  "kernelspec": {
   "display_name": "Python 3",
   "language": "python",
   "name": "python3"
  },
  "language_info": {
   "codemirror_mode": {
    "name": "ipython",
    "version": 3
   },
   "file_extension": ".py",
   "mimetype": "text/x-python",
   "name": "python",
   "nbconvert_exporter": "python",
   "pygments_lexer": "ipython3",
   "version": "3.8.5"
  }
 },
 "nbformat": 4,
 "nbformat_minor": 4
}
